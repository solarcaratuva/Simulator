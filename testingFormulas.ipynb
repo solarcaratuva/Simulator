{
 "cells": [
  {
   "cell_type": "code",
   "execution_count": 5,
   "id": "4ee27f8b",
   "metadata": {},
   "outputs": [],
   "source": [
    "import math\n",
    "import numpy as np"
   ]
  },
  {
   "cell_type": "code",
   "execution_count": null,
   "id": "df12cde0",
   "metadata": {},
   "outputs": [],
   "source": [
    "# define constants:\n",
    "g = 9.81 # m/s^2, acceleration due to gravity\n",
    "mu = float('inf') # efficiency coefficient of the regenerative braking system\n",
    "wheels = 4 # number of wheels on the vehicle\n",
    "mass = float('inf') # kg, mass of the vehicle\n",
    "battery_capacity = float('inf') # Wh, capacity of the vehicle's battery\n",
    "battery_voltage = float('inf') # V, voltage of the vehicle's battery\n",
    "solar_panel_area = float('inf') # m^2, area of the solar panels on the vehicle\n",
    "C_dA = float('inf') # drag coefficient times frontal area of the vehicle"
   ]
  },
  {
   "cell_type": "code",
   "execution_count": 8,
   "id": "78eb5700",
   "metadata": {},
   "outputs": [],
   "source": [
    "def calculate_regenerative_energy(v_initial: float) -> float:\n",
    "    \"\"\"\n",
    "    Calculate the energy recovered through regenerative braking.\n",
    "\n",
    "    Args:\n",
    "        v_initial (float): Initial velocity in m/s.\n",
    "    \n",
    "    Returns:\n",
    "        float: Energy recovered in Wh.\n",
    "    \"\"\"\n",
    "    return (0.5 * mass * v_initial ** 2) * mu / 3600"
   ]
  },
  {
   "cell_type": "code",
   "execution_count": null,
   "id": "1cd45611",
   "metadata": {},
   "outputs": [],
   "source": [
    "def calculate_solar_charge(global_horizontal_coefficient: float) -> float:\n",
    "    \"\"\"\n",
    "    Calculate the charge from the solar panels.\n",
    "\n",
    "    Args:\n",
    "        global_horizontal_coefficient (float): Global horizontal irradiance coefficient.\n",
    "    \n",
    "    Returns:\n",
    "        float: Charge from solar panels in W.\n",
    "    \"\"\"\n",
    "    return solar_panel_area * global_horizontal_coefficient * mu "
   ]
  }
 ],
 "metadata": {
  "kernelspec": {
   "display_name": "Python 3",
   "language": "python",
   "name": "python3"
  },
  "language_info": {
   "codemirror_mode": {
    "name": "ipython",
    "version": 3
   },
   "file_extension": ".py",
   "mimetype": "text/x-python",
   "name": "python",
   "nbconvert_exporter": "python",
   "pygments_lexer": "ipython3",
   "version": "3.13.7"
  }
 },
 "nbformat": 4,
 "nbformat_minor": 5
}
